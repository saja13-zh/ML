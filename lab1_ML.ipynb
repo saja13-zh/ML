{
  "nbformat": 4,
  "nbformat_minor": 0,
  "metadata": {
    "colab": {
      "provenance": [],
      "authorship_tag": "ABX9TyNfrySQOaJvS+SVCD34UqgI",
      "include_colab_link": true
    },
    "kernelspec": {
      "name": "python3",
      "display_name": "Python 3"
    },
    "language_info": {
      "name": "python"
    }
  },
  "cells": [
    {
      "cell_type": "markdown",
      "metadata": {
        "id": "view-in-github",
        "colab_type": "text"
      },
      "source": [
        "<a href=\"https://colab.research.google.com/github/saja13-zh/ML/blob/main/lab1_ML.ipynb\" target=\"_parent\"><img src=\"https://colab.research.google.com/assets/colab-badge.svg\" alt=\"Open In Colab\"/></a>"
      ]
    },
    {
      "cell_type": "code",
      "execution_count": null,
      "metadata": {
        "id": "KEmBd_xz8iAI"
      },
      "outputs": [],
      "source": [
        "import numpy as np"
      ]
    },
    {
      "cell_type": "code",
      "source": [
        "x=np.array([[1,2,4],[-2,-5,-8]])\n",
        "y=np.array([[1,2,3]])\n",
        "z=np.array([[1,2],[3,4],[5,7]])\n",
        "print(f\"x= {x} \\n\")\n",
        "print(f\"y = {y} \\n\")\n",
        "print(f\"z={z} \\n\")\n",
        "q= np.concatenate((x,y))\n",
        "print(f\"x on top of y = {q} \\n\")\n",
        "znew=z.reshape(2,3)\n",
        "print(f\" z reshape ={znew} \\n\")\n",
        "s=x+3*y+znew\n",
        "print(f\"x+3*y+z reshape {s} \\n\")\n",
        "print(f\"x*y= {x*y}\\n\")"
      ],
      "metadata": {
        "colab": {
          "base_uri": "https://localhost:8080/"
        },
        "id": "x175rqRH8lfJ",
        "outputId": "a993f240-c6a5-4cb2-c124-d8d11efb6666"
      },
      "execution_count": null,
      "outputs": [
        {
          "output_type": "stream",
          "name": "stdout",
          "text": [
            "x= [[ 1  2  4]\n",
            " [-2 -5 -8]] \n",
            "\n",
            "y = [[1 2 3]] \n",
            "\n",
            "z=[[1 2]\n",
            " [3 4]\n",
            " [5 7]] \n",
            "\n",
            "x on top of y = [[ 1  2  4]\n",
            " [-2 -5 -8]\n",
            " [ 1  2  3]] \n",
            "\n",
            " z reshape =[[1 2 3]\n",
            " [4 5 7]] \n",
            "\n",
            "x+3*y+z reshape [[ 5 10 16]\n",
            " [ 5  6  8]] \n",
            "\n",
            "x*y= [[  1   4  12]\n",
            " [ -2 -10 -24]]\n",
            "\n"
          ]
        }
      ]
    },
    {
      "cell_type": "code",
      "source": [
        "x=np.array([[1,2,3,-1,-3,-4],[4,5,7,-6,-5,-7],[7,8,9,2,4,6]])\n",
        "print(f\"x= {x} \\n\")\n",
        "a=np.array([[0,1,1,0,1,1]])\n",
        "print(f\"a= {a} \\n\")\n",
        "print(f\"a==0 = {np.where(a==0)}\\n\")\n",
        "y=x[:,a[0]==0]\n",
        "print(f\"y={y}\\n\")\n",
        "print(f\"the mean of y = {np.mean(y)}\\n\")\n",
        "print(f\"a==1 = {np.where(a==1)}\\n\")\n",
        "z=x[:,a[0]==1]\n",
        "print(f\"z={z}\\n\")\n",
        "print(f\"the mean of z = {np.mean(z)}\\n\")\n"
      ],
      "metadata": {
        "colab": {
          "base_uri": "https://localhost:8080/"
        },
        "id": "TfjbggO9CLjO",
        "outputId": "ce9ab662-cb81-4973-f190-667fda226f62"
      },
      "execution_count": null,
      "outputs": [
        {
          "output_type": "stream",
          "name": "stdout",
          "text": [
            "x= [[ 1  2  3 -1 -3 -4]\n",
            " [ 4  5  7 -6 -5 -7]\n",
            " [ 7  8  9  2  4  6]] \n",
            "\n",
            "a= [[0 1 1 0 1 1]] \n",
            "\n",
            "a==0 = (array([0, 0]), array([0, 3]))\n",
            "\n",
            "y=[[ 1 -1]\n",
            " [ 4 -6]\n",
            " [ 7  2]]\n",
            "\n",
            "the mean of y = 1.1666666666666667\n",
            "\n",
            "a==1 = (array([0, 0, 0, 0]), array([1, 2, 4, 5]))\n",
            "\n",
            "z=[[ 2  3 -3 -4]\n",
            " [ 5  7 -5 -7]\n",
            " [ 8  9  4  6]]\n",
            "\n",
            "the mean of z = 2.0833333333333335\n",
            "\n"
          ]
        }
      ]
    },
    {
      "cell_type": "code",
      "source": [
        "w=np.array([[1,2],[3,4]])\n",
        "x=np.array([[1,2,4],[-2,-5,-8]])\n",
        "y=np.array([[1,2,3]])\n",
        "z=np.array([[1,2],[3,4],[5,7]])\n",
        "print(f\"w= {w} \\n\")\n",
        "print(f\"x= {x} \\n\")\n",
        "print(f\"y= {y} \\n\")\n",
        "print(f\"z= {z} \\n\")\n",
        "print(f\"x+y ={x+y}\\n\")\n",
        "print(f\"wy = {np.matmul(w.reshape(4,1),y)}\\n\")\n",
        "newy=y.T\n",
        "print(f\"z+y.T = {z+newy}\\n\")\n",
        "s=np.matmul(x,z)\n",
        "print(f\"xzw-1 = {np.matmul(s,np.linalg.inv(w))}\\n\")\n",
        "n=x+z.T\n",
        "print(f\" x+z.T = {n}\\n\")\n",
        "print(f\"zx={np.matmul(z,x)}\\n\")\n",
        "print(f\"x.T * z.T = {np.matmul(x.T,z.T)}\\n\")\n",
        "\n"
      ],
      "metadata": {
        "colab": {
          "base_uri": "https://localhost:8080/"
        },
        "id": "o1DLEwFtE0KR",
        "outputId": "8107f320-8f27-48b0-e3d4-d7a98b531e34"
      },
      "execution_count": null,
      "outputs": [
        {
          "output_type": "stream",
          "name": "stdout",
          "text": [
            "w= [[1 2]\n",
            " [3 4]] \n",
            "\n",
            "x= [[ 1  2  4]\n",
            " [-2 -5 -8]] \n",
            "\n",
            "y= [[1 2 3]] \n",
            "\n",
            "z= [[1 2]\n",
            " [3 4]\n",
            " [5 7]] \n",
            "\n",
            "x+y =[[ 2  4  7]\n",
            " [-1 -3 -5]]\n",
            "\n",
            "wy = [[ 1  2  3]\n",
            " [ 2  4  6]\n",
            " [ 3  6  9]\n",
            " [ 4  8 12]]\n",
            "\n",
            "z+y.T = [[ 2  3]\n",
            " [ 5  6]\n",
            " [ 8 10]]\n",
            "\n",
            "xzw-1 = [[  3.   8.]\n",
            " [ -6. -17.]]\n",
            "\n",
            " x+z.T = [[ 2  5  9]\n",
            " [ 0 -1 -1]]\n",
            "\n",
            "zx=[[ -3  -8 -12]\n",
            " [ -5 -14 -20]\n",
            " [ -9 -25 -36]]\n",
            "\n",
            "x.T * z.T = [[ -3  -5  -9]\n",
            " [ -8 -14 -25]\n",
            " [-12 -20 -36]]\n",
            "\n"
          ]
        }
      ]
    },
    {
      "cell_type": "code",
      "source": [
        "import matplotlib.pyplot as plt\n",
        "\n",
        "def sigmoid(n):\n",
        "  return 1/(1+np.exp(-n))\n",
        "\n",
        "def log(n):\n",
        "  return np.log(1+np.exp(n))\n",
        "\n",
        "x = np.linspace(-5,5,100)\n",
        "fig,ax = plt.subplots(1,2)\n",
        "\n",
        "ax[0].plot(x,sigmoid(x))\n",
        "ax[0].set_title('sigmoid')\n",
        "\n",
        "ax[1].plot(x,log(x))\n",
        "ax[1].set_title('log')\n",
        "\n",
        "\n",
        "plt.show()"
      ],
      "metadata": {
        "id": "GonAFg_r6Lzt",
        "colab": {
          "base_uri": "https://localhost:8080/",
          "height": 452
        },
        "outputId": "5a24769f-07c0-4a7d-e259-0334c2de4fcf"
      },
      "execution_count": null,
      "outputs": [
        {
          "output_type": "display_data",
          "data": {
            "text/plain": [
              "<Figure size 640x480 with 2 Axes>"
            ],
            "image/png": "[encoded data removed]"
          },
          "metadata": {}
        }
      ]
    }
  ]
}