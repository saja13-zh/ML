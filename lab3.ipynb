{
 "cells": [
  {
   "cell_type": "markdown",
   "id": "3caba5ec",
   "metadata": {},
   "source": [
    "task 1"
   ]
  },
  {
   "cell_type": "code",
   "execution_count": 8,
   "id": "12185f2a",
   "metadata": {},
   "outputs": [],
   "source": [
    "import pandas as pd\n",
    "import numpy as np\n",
    "import seaborn as sns\n",
    "import matplotlib.pyplot as plt\n",
    "%matplotlib inline\n"
   ]
  },
  {
   "cell_type": "markdown",
   "id": "2fd3fffa",
   "metadata": {},
   "source": [
    "task 1 -step 1-2-3"
   ]
  },
  {
   "cell_type": "code",
   "execution_count": 61,
   "id": "3ebb068b",
   "metadata": {},
   "outputs": [
    {
     "name": "stdout",
     "output_type": "stream",
     "text": [
      "         Speed  Agility  Selected\n",
      "Athlete                          \n",
      "x1        2.50     6.00         0\n",
      "x2        3.75     8.00         0\n",
      "x3        2.25     5.50         0\n",
      "x4        3.25     8.25         0\n",
      "x5        2.75     7.50         0\n",
      "         Speed  Agility  Selected\n",
      "Athlete                          \n",
      "x1        2.50     6.00         0\n",
      "x2        3.75     8.00         0\n",
      "x3        2.25     5.50         0\n",
      "x4        3.25     8.25         0\n",
      "x5        2.75     7.50         0\n",
      "x6        4.50     5.00         0\n",
      "x7        3.50     5.25         0\n",
      "x8        3.00     3.25         0\n",
      "x9        4.00     4.00         0\n",
      "x10       4.25     3.75         0\n",
      "x11       2.00     2.00         0\n",
      "x12       5.00     2.50         0\n",
      "x13       8.25     8.50         1\n",
      "x14       5.75     8.75         1\n",
      "x15       4.75     6.25         1\n",
      "x16       5.50     6.75         1\n",
      "x17       5.25     9.50         1\n",
      "x18       7.00     4.25         1\n",
      "x19       7.50     8.00         1\n",
      "x20       7.25     3.75         1\n",
      "[[2.5  6.  ]\n",
      " [3.75 8.  ]\n",
      " [2.25 5.5 ]\n",
      " [3.25 8.25]\n",
      " [2.75 7.5 ]\n",
      " [4.5  5.  ]\n",
      " [3.5  5.25]\n",
      " [3.   3.25]\n",
      " [4.   4.  ]\n",
      " [4.25 3.75]\n",
      " [2.   2.  ]\n",
      " [5.   2.5 ]\n",
      " [8.25 8.5 ]\n",
      " [5.75 8.75]\n",
      " [4.75 6.25]\n",
      " [5.5  6.75]\n",
      " [5.25 9.5 ]\n",
      " [7.   4.25]\n",
      " [7.5  8.  ]\n",
      " [7.25 3.75]]\n",
      "[0 0 0 0 0 0 0 0 0 0 0 0 1 1 1 1 1 1 1 1]\n"
     ]
    }
   ],
   "source": [
    "data= pd.read_csv('/Users/sajaz/Downloads/AthleteSelection.csv',index_col=('Athlete'))\n",
    "print(data.head(5))\n",
    "names=pd.DataFrame(data)\n",
    "print(names)\n",
    "y=data.pop('Selected').values\n",
    "X=data.values\n",
    "print(X)\n",
    "print(y)"
   ]
  },
  {
   "cell_type": "code",
   "execution_count": 67,
   "id": "63051ca0",
   "metadata": {},
   "outputs": [
    {
     "data": {
      "text/plain": [
       "NearestNeighbors(n_neighbors=2, radius=0.4)"
      ]
     },
     "execution_count": 67,
     "metadata": {},
     "output_type": "execute_result"
    }
   ],
   "source": [
    "from sklearn.neighbors import KNeighborsClassifier\n",
    "from sklearn.neighbors import NearestNeighbors\n",
    "from sklearn.metrics import accuracy_score\n",
    "from sklearn.metrics import recall_score\n",
    "\n",
    "model = NearestNeighbors(n_neighbors=2, radius=0.4)\n",
    "model.fit(X,y)"
   ]
  },
  {
   "cell_type": "code",
   "execution_count": 69,
   "id": "3ebe4dd0",
   "metadata": {},
   "outputs": [
    {
     "name": "stdout",
     "output_type": "stream",
     "text": [
      "{'algorithm': 'auto', 'leaf_size': 30, 'metric': 'minkowski', 'metric_params': None, 'n_jobs': None, 'n_neighbors': 2, 'p': 2, 'radius': 0.4}\n"
     ]
    }
   ],
   "source": [
    "estimator = model.get_params()\n",
    "print(estimator)"
   ]
  },
  {
   "cell_type": "code",
   "execution_count": 82,
   "id": "cee0cfb7",
   "metadata": {},
   "outputs": [
    {
     "name": "stdout",
     "output_type": "stream",
     "text": [
      "[[3.25 8.25]\n",
      " [0.2  3.3 ]]\n"
     ]
    }
   ],
   "source": [
    "x_input=np.array([[3.25,8.25],[0.2,3.3]])\n",
    "print(x_input)\n"
   ]
  },
  {
   "cell_type": "code",
   "execution_count": 110,
   "id": "a2f02b5e",
   "metadata": {},
   "outputs": [
    {
     "name": "stdout",
     "output_type": "stream",
     "text": [
      "     y: [0 0 0 0 0 0 0 0 0 0 0 0 1 1 1 1 1 1 1 1]\n",
      "y_dash: [0 0 0 0 0 0 0 0 0 0 0 0 1 1 1 1 1 1 1 1]\n",
      "Accuracy of KNeighborsClassifier with K=3: 1.00\n"
     ]
    },
    {
     "name": "stderr",
     "output_type": "stream",
     "text": [
      "C:\\Users\\sajaz\\anaconda3\\lib\\site-packages\\sklearn\\neighbors\\_classification.py:228: FutureWarning: Unlike other reduction functions (e.g. `skew`, `kurtosis`), the default behavior of `mode` typically preserves the axis it acts along. In SciPy 1.11.0, this behavior will change: the default value of `keepdims` will become False, the `axis` over which the statistic is taken will be eliminated, and the value None will no longer be accepted. Set `keepdims` to True or False to avoid this warning.\n",
      "  mode, _ = stats.mode(_y[neigh_ind, k], axis=1)\n"
     ]
    }
   ],
   "source": [
    "model2=KNeighborsClassifier(n_neighbors=3)\n",
    "model2.fit(X,y)\n",
    "y_dash=model2.predict(X)\n",
    "print('     y:',y)\n",
    "print('y_dash:',y_dash)\n",
    "\n",
    "accuracy = accuracy_score(y, y_dash)\n",
    "print(f\"Accuracy of KNeighborsClassifier with K=3: {accuracy:.2f}\")"
   ]
  },
  {
   "cell_type": "markdown",
   "id": "80de4aea",
   "metadata": {},
   "source": [
    "10 - y-dash and y is the same so i think the accuracy is good , because the test was on the same data who was trained"
   ]
  },
  {
   "cell_type": "markdown",
   "id": "f390520f",
   "metadata": {},
   "source": [
    "task 2"
   ]
  },
  {
   "cell_type": "code",
   "execution_count": 90,
   "id": "6d8b5166",
   "metadata": {},
   "outputs": [
    {
     "name": "stdout",
     "output_type": "stream",
     "text": [
      "         Speed  Agility  Selected\n",
      "Athlete                          \n",
      "t1         3.3      8.2         0\n",
      "t2         4.5      4.5         0\n",
      "t3         5.5      7.2         0\n",
      "t4         3.8      8.8         1\n",
      "t5         5.5      5.2         0\n",
      "         Speed  Agility  Selected\n",
      "Athlete                          \n",
      "t1         3.3      8.2         0\n",
      "t2         4.5      4.5         0\n",
      "t3         5.5      7.2         0\n",
      "t4         3.8      8.8         1\n",
      "t5         5.5      5.2         0\n",
      "t6         8.1      7.8         0\n",
      "t7         7.7      5.2         1\n",
      "t8         6.1      5.5         0\n",
      "t9         5.5      6.0         0\n",
      "t10        6.1      5.5         1\n",
      "[[3.3 8.2]\n",
      " [4.5 4.5]\n",
      " [5.5 7.2]\n",
      " [3.8 8.8]\n",
      " [5.5 5.2]\n",
      " [8.1 7.8]\n",
      " [7.7 5.2]\n",
      " [6.1 5.5]\n",
      " [5.5 6. ]\n",
      " [6.1 5.5]]\n",
      "[0 0 0 1 0 0 1 0 0 1]\n"
     ]
    }
   ],
   "source": [
    "data2= pd.read_csv('/Users/sajaz/Downloads/AthleteTest.csv',index_col=('Athlete'))\n",
    "print(data2.head(5))\n",
    "names2=pd.DataFrame(data2)\n",
    "print(names2)\n",
    "y_test=data2.pop('Selected').values\n",
    "X_test=data2.values\n",
    "print(X_test)\n",
    "print(y_test)"
   ]
  },
  {
   "cell_type": "code",
   "execution_count": 119,
   "id": "e1822af5",
   "metadata": {},
   "outputs": [],
   "source": [
    "model3=KNeighborsClassifier(n_neighbors=3)"
   ]
  },
  {
   "cell_type": "code",
   "execution_count": 120,
   "id": "659166d3",
   "metadata": {},
   "outputs": [
    {
     "name": "stdout",
     "output_type": "stream",
     "text": [
      "     y: [0 0 0 1 0 0 1 0 0 1]\n",
      "y_dash: [0 0 0 0 0 0 1 0 0 0]\n",
      "Accuracy of KNeighborsClassifier with K=3: 0.80\n"
     ]
    },
    {
     "name": "stderr",
     "output_type": "stream",
     "text": [
      "C:\\Users\\sajaz\\anaconda3\\lib\\site-packages\\sklearn\\neighbors\\_classification.py:228: FutureWarning: Unlike other reduction functions (e.g. `skew`, `kurtosis`), the default behavior of `mode` typically preserves the axis it acts along. In SciPy 1.11.0, this behavior will change: the default value of `keepdims` will become False, the `axis` over which the statistic is taken will be eliminated, and the value None will no longer be accepted. Set `keepdims` to True or False to avoid this warning.\n",
      "  mode, _ = stats.mode(_y[neigh_ind, k], axis=1)\n"
     ]
    }
   ],
   "source": [
    "model3.fit(X_test,y_test)\n",
    "y_dash2=model3.predict(X_test)\n",
    "print('     y:',y_test)\n",
    "print('y_dash:',y_dash2)\n",
    "\n",
    "accuracy = accuracy_score(y_test, y_dash2)\n",
    "print(f\"Accuracy of KNeighborsClassifier with K=3: {accuracy:.2f}\")"
   ]
  },
  {
   "cell_type": "code",
   "execution_count": 121,
   "id": "e4b113b4",
   "metadata": {},
   "outputs": [
    {
     "name": "stdout",
     "output_type": "stream",
     "text": [
      "     y: [0 0 0 1 0 0 1 0 0 1]\n",
      "y_dash: [0 0 0 0 0 0 1 0 0 0]\n",
      "Accuracy of KNeighborsClassifier with K=3: 0.80\n"
     ]
    },
    {
     "name": "stderr",
     "output_type": "stream",
     "text": [
      "C:\\Users\\sajaz\\anaconda3\\lib\\site-packages\\sklearn\\neighbors\\_classification.py:228: FutureWarning: Unlike other reduction functions (e.g. `skew`, `kurtosis`), the default behavior of `mode` typically preserves the axis it acts along. In SciPy 1.11.0, this behavior will change: the default value of `keepdims` will become False, the `axis` over which the statistic is taken will be eliminated, and the value None will no longer be accepted. Set `keepdims` to True or False to avoid this warning.\n",
      "  mode, _ = stats.mode(_y[neigh_ind, k], axis=1)\n"
     ]
    }
   ],
   "source": [
    "from sklearn import preprocessing\n",
    "from sklearn.neighbors import KNeighborsClassifier\n",
    "from sklearn.preprocessing import StandardScaler, MinMaxScaler\n",
    "from sklearn.metrics import accuracy_score\n",
    "\n",
    "scaler=preprocessing.StandardScaler().fit(X_test)\n",
    "X_scaled =scaler.transform(X_test)\n",
    "q_scaled =scaler.transform([q])\n",
    "model3.fit(X_scaled,y_test)\n",
    "model3.kneighbors(q_scaled)\n",
    "\n",
    "model3.fit(X_scaled,y_test)\n",
    "y_dash3=model3.predict(X_scaled)\n",
    "print('     y:',y_test)\n",
    "print('y_dash:',y_dash3)\n",
    "accuracy = accuracy_score(y_test, y_dash3)\n",
    "print(f\"Accuracy of KNeighborsClassifier with K=3: {accuracy:.2f}\")"
   ]
  },
  {
   "cell_type": "code",
   "execution_count": 122,
   "id": "98ef4f14",
   "metadata": {},
   "outputs": [
    {
     "name": "stdout",
     "output_type": "stream",
     "text": [
      "     y: [0 0 0 1 0 0 1 0 0 1]\n",
      "y_dash: [0 0 0 0 0 0 1 0 0 0]\n",
      "Accuracy of KNeighborsClassifier with K=3: 0.80\n"
     ]
    },
    {
     "name": "stderr",
     "output_type": "stream",
     "text": [
      "C:\\Users\\sajaz\\anaconda3\\lib\\site-packages\\sklearn\\neighbors\\_classification.py:228: FutureWarning: Unlike other reduction functions (e.g. `skew`, `kurtosis`), the default behavior of `mode` typically preserves the axis it acts along. In SciPy 1.11.0, this behavior will change: the default value of `keepdims` will become False, the `axis` over which the statistic is taken will be eliminated, and the value None will no longer be accepted. Set `keepdims` to True or False to avoid this warning.\n",
      "  mode, _ = stats.mode(_y[neigh_ind, k], axis=1)\n"
     ]
    }
   ],
   "source": [
    "scaler2=preprocessing.MinMaxScaler().fit(X_test)\n",
    "X_scaled2 =scaler2.transform(X_test)\n",
    "q_scaled2 =scaler2.transform([q])\n",
    "model3.fit(X_scaled2,y_test)\n",
    "model3.kneighbors(q_scaled2)\n",
    "\n",
    "model3.fit(X_scaled2,y_test)\n",
    "y_dash4=model3.predict(X_scaled2)\n",
    "print('     y:',y_test)\n",
    "print('y_dash:',y_dash4)\n",
    "accuracy = accuracy_score(y_test, y_dash4)\n",
    "print(f\"Accuracy of KNeighborsClassifier with K=3: {accuracy:.2f}\")"
   ]
  },
  {
   "cell_type": "markdown",
   "id": "c4a8899b",
   "metadata": {},
   "source": [
    "Accuracy of KNeighborsClassifier with K=1: 0.90\n",
    "Accuracy of KNeighborsClassifier with K=1 and StandardScaler: 0.90\n",
    "Accuracy of KNeighborsClassifier with K=1 and MinMaxScaler: 0.90\n",
    "Accuracy of KNeighborsClassifier with K=2: 0.70\n",
    "Accuracy of KNeighborsClassifier with K=2 and StandardScaler: 0.70\n",
    "Accuracy of KNeighborsClassifier with K=2 and MinMaxScaler: 0.70\n",
    "Accuracy of KNeighborsClassifier with K=3: 0.80\n",
    "Accuracy of KNeighborsClassifier with K=3 and StandardScaler: 0.80\n",
    "Accuracy of KNeighborsClassifier with K=3 and MinMaxScaler: 0.80\n"
   ]
  }
 ],
 "metadata": {
  "kernelspec": {
   "display_name": "Python 3 (ipykernel)",
   "language": "python",
   "name": "python3"
  },
  "language_info": {
   "codemirror_mode": {
    "name": "ipython",
    "version": 3
   },
   "file_extension": ".py",
   "mimetype": "text/x-python",
   "name": "python",
   "nbconvert_exporter": "python",
   "pygments_lexer": "ipython3",
   "version": "3.9.13"
  }
 },
 "nbformat": 4,
 "nbformat_minor": 5
}
